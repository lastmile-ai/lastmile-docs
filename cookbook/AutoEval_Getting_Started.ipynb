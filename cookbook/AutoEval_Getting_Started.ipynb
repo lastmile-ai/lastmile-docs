{
    "cells": [
        {
            "cell_type": "markdown",
            "metadata": {},
            "source": [
                "# Getting Started with LastMile AI AutoEval\n",
                "\n",
                "This notebook demonstrates how to use the LastMile AI AutoEval library to generate labels for a dataset and fine-tune a model for improved evaluation. We will follow these steps:\n",
                "\n",
                "1. Set up the API key\n",
                "2. Prepare and upload a dataset for labeling\n",
                "3. Define a custom prompt template for labeling\n",
                "4. Label the dataset using the prompt\n",
                "5. Retrieve and view the labeled dataset\n",
                "6. Fine-tune a model on the labeled dataset\n",
                "7. Prepare and upload a test dataset\n",
                "8. Evaluate the test dataset using the fine-tuned model"
            ]
        },
        {
            "cell_type": "code",
            "execution_count": null,
            "metadata": {},
            "outputs": [],
            "source": [
                "!pip install lastmile --upgrade"
            ]
        },
        {
            "cell_type": "markdown",
            "metadata": {},
            "source": [
                "## 1. Set Up Your API Key\n",
                "\n",
                "To interact with the LastMile AI API, set your API key as an environment variable. If you haven't already obtained an API key, please visit the LastMile AI dashboard."
            ]
        },
        {
            "cell_type": "code",
            "execution_count": 7,
            "metadata": {},
            "outputs": [
                {
                    "name": "stdout",
                    "output_type": "stream",
                    "text": [
                        "✓ API key successfully configured!\n"
                    ]
                }
            ],
            "source": [
                "import os\n",
                "\n",
                "api_token = os.environ.get(\"LASTMILE_API_TOKEN\")\n",
                "\n",
                "if not api_token:\n",
                "    print(\"Error: Please set your API key in the environment variable LASTMILE_API_KEY\")\n",
                "elif api_token == \"YOUR_API_KEY_HERE\":\n",
                "    print(\"Error: Please replace 'YOUR_API_KEY_HERE' with your actual API key\")\n",
                "else:\n",
                "    print(\"✓ API key successfully configured!\")\n",
                "\n",
                "# Setup Pandas to display without truncation (for display purposes)\n",
                "import pandas as pd\n",
                "pd.set_option('display.max_columns', None)\n",
                "pd.set_option('display.max_rows', None)\n",
                "pd.set_option('display.width', None)\n",
                "pd.set_option('display.max_colwidth', None)\n"
            ]
        },
        {
            "cell_type": "markdown",
            "metadata": {},
            "source": [
                "## 2. Prepare Your Dataset for Labeling\n",
                "\n",
                "To generate labels for your dataset using LastMile AI AutoEval, you'll need to upload a CSV file containing the data you want to label. The CSV file should be formatted with the following columns:\n",
                "\n",
                "- `input`: The user's query or input text.\n",
                "- `output`: The assistant's response to the user's query.\n",
                "- `ground_truth`: The correct or expected response for the given input (optional).\n",
                "\n",
                "In this example, we'll use a sample dataset called `supercard-dining-dataset.csv`, which contains interactions between users and a dining assistant that helps find restaurants and provides recommendations.\n",
                "\n",
                "Make sure the CSV file is in the correct format and located in the same directory as this notebook before proceeding to the next step."
            ]
        },
        {
            "cell_type": "code",
            "execution_count": 9,
            "metadata": {},
            "outputs": [
                {
                    "name": "stdout",
                    "output_type": "stream",
                    "text": [
                        "Dataset created with ID: cm3hvlx80000umy016vdg47wb\n"
                    ]
                }
            ],
            "source": [
                "from lastmile.lib.auto_eval import AutoEval\n",
                "\n",
                "client = AutoEval(api_token=api_token)\n",
                "\n",
                "dataset_csv_path = \"data/customer_support_dataset.csv\"\n",
                "\n",
                "dataset_id = client.upload_dataset(\n",
                "    file_path=dataset_csv_path,\n",
                "    name=\"Supercard Dining Dataset\",\n",
                "    description=\"Dataset containing dining-related queries and responses\"\n",
                ")\n",
                "\n",
                "print(f\"Dataset created with ID: {dataset_id}\")"
            ]
        },
        {
            "cell_type": "markdown",
            "metadata": {},
            "source": [
                "## 3. Define a Custom Prompt Template\n",
                "\n",
                "We'll create a prompt template that tells the evaluator model how to assess each data point. The template includes instructions on when to assign labels `1` or `0` based on specific criteria."
            ]
        },
        {
            "cell_type": "code",
            "execution_count": 10,
            "metadata": {},
            "outputs": [],
            "source": [
                "prompt_template = \"\"\"\n",
                "You are an evaluator model tasked with assessing a generated output for a provided input based on the following criteria. Return a label of 1 or 0 according to these rules:\n",
                "\n",
                "Label 1:\n",
                "  - If the input is a customer support query and the output provides accurate and helpful information using details from the ground_truth.\n",
                "  - If the input is not related to customer support and the output politely informs the user that it cannot assist with that request.\n",
                "\n",
                "Label 0:\n",
                "  - If the output contains information not present in the ground_truth.\n",
                "  - If the output does not appropriately address the user's request as per the above guidelines.\n",
                "  - If the output is irrelevant, incorrect, or unhelpful in the context of the input and ground_truth.\n",
                "\n",
                "Ground Truth:\n",
                "{ground_truth}\n",
                "\n",
                "Input:\n",
                "{input}\n",
                "\n",
                "Output:\n",
                "{output}\n",
                "\n",
                "Label:\n",
                "\"\"\""
            ]
        },
        {
            "cell_type": "markdown",
            "metadata": {},
            "source": [
                "## 4. Label the Dataset\n",
                "\n",
                "We use the `label_dataset` method from the `AutoEval` library to label our dataset based on the prompt template. We'll set `wait_for_completion` to `True` so that the notebook waits until the labeling job is finished."
            ]
        },
        {
            "cell_type": "code",
            "execution_count": 11,
            "metadata": {},
            "outputs": [
                {
                    "name": "stdout",
                    "output_type": "stream",
                    "text": [
                        "Labeling job started with ID: cm3hvmbhh001nuj01rt64pxp1\n",
                        "Waiting for job to complete...\n",
                        "Labeling Job with ID: cm3hvmbhh001nuj01rt64pxp1 Completed\n"
                    ]
                }
            ],
            "source": [
                "job_id = client.label_dataset(\n",
                "    dataset_id=dataset_id,\n",
                "    prompt_template=prompt_template,\n",
                "    wait_for_completion=False\n",
                ")\n",
                "\n",
                "print(f\"Labeling job started with ID: {job_id}\")\n",
                "print(\"Waiting for job to complete...\")\n",
                "\n",
                "client.wait_for_label_dataset_job(job_id)\n",
                "print(f\"Labeling Job with ID: {job_id} Completed\")"
            ]
        },
        {
            "cell_type": "markdown",
            "metadata": {},
            "source": [
                "## 5. Retrieve and View the Labeled Dataset\n",
                "\n",
                "After the labeling job is completed, we'll download the dataset and display it to verify the labels."
            ]
        },
        {
            "cell_type": "code",
            "execution_count": 18,
            "metadata": {},
            "outputs": [
                {
                    "name": "stdout",
                    "output_type": "stream",
                    "text": [
                        "Retrieving labeled dataset with ID: cm3hvlx80000umy016vdg47wb\n"
                    ]
                },
                {
                    "data": {
                        "text/html": [
                            "<div>\n",
                            "<style scoped>\n",
                            "    .dataframe tbody tr th:only-of-type {\n",
                            "        vertical-align: middle;\n",
                            "    }\n",
                            "\n",
                            "    .dataframe tbody tr th {\n",
                            "        vertical-align: top;\n",
                            "    }\n",
                            "\n",
                            "    .dataframe thead th {\n",
                            "        text-align: right;\n",
                            "    }\n",
                            "</style>\n",
                            "<table border=\"1\" class=\"dataframe\">\n",
                            "  <thead>\n",
                            "    <tr style=\"text-align: right;\">\n",
                            "      <th></th>\n",
                            "      <th>ground_truth</th>\n",
                            "      <th>input</th>\n",
                            "      <th>output</th>\n",
                            "      <th>label</th>\n",
                            "    </tr>\n",
                            "  </thead>\n",
                            "  <tbody>\n",
                            "    <tr>\n",
                            "      <th>0</th>\n",
                            "      <td>Musical instruments are allowed on board if they fit in the cabin's overhead bin.</td>\n",
                            "      <td>Can I carry a musical instrument on board?</td>\n",
                            "      <td>Small musical instruments that fit in the overhead bin are allowed.</td>\n",
                            "      <td>1</td>\n",
                            "    </tr>\n",
                            "    <tr>\n",
                            "      <th>1</th>\n",
                            "      <td>2 checked bags, 23kg each</td>\n",
                            "      <td>How many free checked bags am I allowed on long-haul flights?</td>\n",
                            "      <td>You are allowed 1 checked bag, weighing up to 23kg, on long-haul flights.</td>\n",
                            "      <td>0</td>\n",
                            "    </tr>\n",
                            "    <tr>\n",
                            "      <th>2</th>\n",
                            "      <td>1-800-555-1234</td>\n",
                            "      <td>What is the phone number for customer service?</td>\n",
                            "      <td>Please call customer service at 1-800-555-1243.</td>\n",
                            "      <td>0</td>\n",
                            "    </tr>\n",
                            "    <tr>\n",
                            "      <th>3</th>\n",
                            "      <td>Next flight: 8:00 PM from JFK to LHR</td>\n",
                            "      <td>When is the next flight from New York to London?</td>\n",
                            "      <td>The next flight from New York to London is at 9:00 PM.</td>\n",
                            "      <td>0</td>\n",
                            "    </tr>\n",
                            "    <tr>\n",
                            "      <th>4</th>\n",
                            "      <td>Business class amenities on StrikeAir flights include flatbed seats, gourmet dining, premium beverages, and extra baggage allowance.</td>\n",
                            "      <td>What are the business class amenities on StrikeAir flights?</td>\n",
                            "      <td>Business class includes fully flat seats, gourmet meals, and a selection of fine wines.</td>\n",
                            "      <td>0</td>\n",
                            "    </tr>\n",
                            "    <tr>\n",
                            "      <th>5</th>\n",
                            "      <td>Flight status for SA1234 is available on our website or by calling customer service at 1-800-555-1234.</td>\n",
                            "      <td>How can I track my flight status?</td>\n",
                            "      <td>You can check the status of your flight SA1234 on our website or call customer service at 1-800-555-1234.</td>\n",
                            "      <td>1</td>\n",
                            "    </tr>\n",
                            "    <tr>\n",
                            "      <th>6</th>\n",
                            "      <td>Vegetarian meals are available upon request. Please ensure you request it at the time of booking or contact customer service.</td>\n",
                            "      <td>Can I get a vegetarian meal on my flight?</td>\n",
                            "      <td>Yes, we offer vegetarian meals on our flights. Please make sure to request it during booking or contact customer service.</td>\n",
                            "      <td>1</td>\n",
                            "    </tr>\n",
                            "    <tr>\n",
                            "      <th>7</th>\n",
                            "      <td>1 carry-on bag and 1 personal item are allowed</td>\n",
                            "      <td>How many carry-on bags am I allowed to bring?</td>\n",
                            "      <td>You are allowed to bring 1 carry-on bag and 1 personal item.</td>\n",
                            "      <td>1</td>\n",
                            "    </tr>\n",
                            "    <tr>\n",
                            "      <th>8</th>\n",
                            "      <td>A negative COVID-19 test result taken within 72 hours before boarding is required.</td>\n",
                            "      <td>Do I need to provide a negative COVID-19 test result before boarding?</td>\n",
                            "      <td>Yes, you need to provide a negative COVID-19 test result taken within 72 hours before boarding.</td>\n",
                            "      <td>1</td>\n",
                            "    </tr>\n",
                            "    <tr>\n",
                            "      <th>9</th>\n",
                            "      <td>JFK Terminal 4</td>\n",
                            "      <td>What terminal is my flight arriving at?</td>\n",
                            "      <td>Your flight is arriving at JFK Terminal 5.</td>\n",
                            "      <td>0</td>\n",
                            "    </tr>\n",
                            "  </tbody>\n",
                            "</table>\n",
                            "</div>"
                        ],
                        "text/plain": [
                            "                                                                                                                           ground_truth  \\\n",
                            "0                                                     Musical instruments are allowed on board if they fit in the cabin's overhead bin.   \n",
                            "1                                                                                                             2 checked bags, 23kg each   \n",
                            "2                                                                                                                        1-800-555-1234   \n",
                            "3                                                                                                  Next flight: 8:00 PM from JFK to LHR   \n",
                            "4  Business class amenities on StrikeAir flights include flatbed seats, gourmet dining, premium beverages, and extra baggage allowance.   \n",
                            "5                                Flight status for SA1234 is available on our website or by calling customer service at 1-800-555-1234.   \n",
                            "6         Vegetarian meals are available upon request. Please ensure you request it at the time of booking or contact customer service.   \n",
                            "7                                                                                        1 carry-on bag and 1 personal item are allowed   \n",
                            "8                                                    A negative COVID-19 test result taken within 72 hours before boarding is required.   \n",
                            "9                                                                                                                        JFK Terminal 4   \n",
                            "\n",
                            "                                                                   input  \\\n",
                            "0                             Can I carry a musical instrument on board?   \n",
                            "1          How many free checked bags am I allowed on long-haul flights?   \n",
                            "2                         What is the phone number for customer service?   \n",
                            "3                       When is the next flight from New York to London?   \n",
                            "4            What are the business class amenities on StrikeAir flights?   \n",
                            "5                                      How can I track my flight status?   \n",
                            "6                              Can I get a vegetarian meal on my flight?   \n",
                            "7                          How many carry-on bags am I allowed to bring?   \n",
                            "8  Do I need to provide a negative COVID-19 test result before boarding?   \n",
                            "9                                What terminal is my flight arriving at?   \n",
                            "\n",
                            "                                                                                                                      output  \\\n",
                            "0                                                        Small musical instruments that fit in the overhead bin are allowed.   \n",
                            "1                                                  You are allowed 1 checked bag, weighing up to 23kg, on long-haul flights.   \n",
                            "2                                                                            Please call customer service at 1-800-555-1243.   \n",
                            "3                                                                     The next flight from New York to London is at 9:00 PM.   \n",
                            "4                                    Business class includes fully flat seats, gourmet meals, and a selection of fine wines.   \n",
                            "5                  You can check the status of your flight SA1234 on our website or call customer service at 1-800-555-1234.   \n",
                            "6  Yes, we offer vegetarian meals on our flights. Please make sure to request it during booking or contact customer service.   \n",
                            "7                                                               You are allowed to bring 1 carry-on bag and 1 personal item.   \n",
                            "8                            Yes, you need to provide a negative COVID-19 test result taken within 72 hours before boarding.   \n",
                            "9                                                                                 Your flight is arriving at JFK Terminal 5.   \n",
                            "\n",
                            "   label  \n",
                            "0      1  \n",
                            "1      0  \n",
                            "2      0  \n",
                            "3      0  \n",
                            "4      0  \n",
                            "5      1  \n",
                            "6      1  \n",
                            "7      1  \n",
                            "8      1  \n",
                            "9      0  "
                        ]
                    },
                    "execution_count": 18,
                    "metadata": {},
                    "output_type": "execute_result"
                }
            ],
            "source": [
                "print(f\"Retrieving labeled dataset with ID: {dataset_id}\")\n",
                "dataset = client.download_dataset(dataset_id=dataset_id)\n",
                "dataset.head(10)"
            ]
        },
        {
            "cell_type": "markdown",
            "metadata": {},
            "source": [
                "## 6. Prepare a Test Dataset\n",
                "\n",
                "To evaluate our fine-tuned model, we'll upload a separate test dataset. This dataset should have the same format as our training dataset but contain different examples."
            ]
        },
        {
            "cell_type": "code",
            "execution_count": 19,
            "metadata": {},
            "outputs": [
                {
                    "name": "stdout",
                    "output_type": "stream",
                    "text": [
                        "Test dataset uploaded with ID: cm3hvp4hc004ylf01zomcvyen\n"
                    ]
                }
            ],
            "source": [
                "test_dataset_id = client.upload_dataset(\n",
                "    file_path=\"data/customer_support_test.csv\",  # Your test dataset file\n",
                "    name=\"Dining Assistant Test Dataset\",\n",
                "    description=\"Test dataset for evaluating the fine-tuned model\"\n",
                ")\n",
                "\n",
                "print(f\"Test dataset uploaded with ID: {test_dataset_id}\")"
            ]
        },
        {
            "cell_type": "markdown",
            "metadata": {},
            "source": [
                "## 7. Fine-Tuning a Model\n",
                "\n",
                "Now that we have a labeled dataset, we can fine-tune an evaluator model to improve its performance on our specific use case. The fine-tuned model can then be used to evaluate new data more accurately.\n",
                "\n",
                "We'll submit a fine-tuning job using our labeled training dataset and wait for it to complete. The default base model used for fine-tuning is an in-house custom ALBERTA model. In the future, we will introduce more powerful models."
            ]
        },
        {
            "cell_type": "code",
            "execution_count": 21,
            "metadata": {},
            "outputs": [
                {
                    "name": "stdout",
                    "output_type": "stream",
                    "text": [
                        "Fine-tuning job initiated with ID: cm3hvptlu0010my01te2cuh0g. Waiting for completion...\n",
                        "Fine-tuning job completed with ID: cm3hvptlu0010my01te2cuh0g\n"
                    ]
                }
            ],
            "source": [
                "model_name = \"Dining Assistant Evaluator v1\" + \"oops\"\n",
                "\n",
                "fine_tune_job_id = client.fine_tune_model(\n",
                "    train_dataset_id=dataset_id,  # From our earlier labeling step\n",
                "    test_dataset_id=test_dataset_id,\n",
                "    model_name=model_name,\n",
                "    selected_columns=[\"input\", \"output\", \"ground_truth\"],\n",
                "    wait_for_completion=False\n",
                ")\n",
                "\n",
                "print(f\"Fine-tuning job initiated with ID: {fine_tune_job_id}. Waiting for completion...\")\n",
                "client.wait_for_fine_tune_job(fine_tune_job_id)\n",
                "print(f\"Fine-tuning job completed with ID: {fine_tune_job_id}\")"
            ]
        },
        {
            "cell_type": "markdown",
            "metadata": {},
            "source": [
                "## 8. Evaluate Using Fine-tuned Model\n",
                "\n",
                "After fine-tuning completes, we need to wait for the model to be available as a metric. We'll check the list of available metrics until our fine-tuned model appears.\n",
                "\n",
                "Once the model is available, we can use it to evaluate our test dataset and view the results."
            ]
        },
        {
            "cell_type": "code",
            "execution_count": 23,
            "metadata": {},
            "outputs": [
                {
                    "name": "stdout",
                    "output_type": "stream",
                    "text": [
                        "Waiting for fine-tuned model to be available as metric...\n",
                        "Fine-tuned model available as metric with ID: cm3hvsl1y0052lf01mh0v0gy3\n",
                        "Evaluation Results:\n"
                    ]
                },
                {
                    "data": {
                        "text/html": [
                            "<div>\n",
                            "<style scoped>\n",
                            "    .dataframe tbody tr th:only-of-type {\n",
                            "        vertical-align: middle;\n",
                            "    }\n",
                            "\n",
                            "    .dataframe tbody tr th {\n",
                            "        vertical-align: top;\n",
                            "    }\n",
                            "\n",
                            "    .dataframe thead th {\n",
                            "        text-align: right;\n",
                            "    }\n",
                            "</style>\n",
                            "<table border=\"1\" class=\"dataframe\">\n",
                            "  <thead>\n",
                            "    <tr style=\"text-align: right;\">\n",
                            "      <th></th>\n",
                            "      <th>ground_truth</th>\n",
                            "      <th>input</th>\n",
                            "      <th>output</th>\n",
                            "      <th>label</th>\n",
                            "      <th>Dining Assistant Evaluator v1oops_score</th>\n",
                            "    </tr>\n",
                            "  </thead>\n",
                            "  <tbody>\n",
                            "    <tr>\n",
                            "      <th>0</th>\n",
                            "      <td>Musical instruments are allowed on board if they fit in the cabin's overhead bin.</td>\n",
                            "      <td>Can I carry a musical instrument on board?</td>\n",
                            "      <td>Small musical instruments that fit in the overhead bin are allowed.</td>\n",
                            "      <td>1</td>\n",
                            "      <td>0.527390</td>\n",
                            "    </tr>\n",
                            "    <tr>\n",
                            "      <th>1</th>\n",
                            "      <td>2 checked bags, 23kg each</td>\n",
                            "      <td>How many free checked bags am I allowed on long-haul flights?</td>\n",
                            "      <td>You are allowed 1 checked bag, weighing up to 23kg, on long-haul flights.</td>\n",
                            "      <td>0</td>\n",
                            "      <td>0.451582</td>\n",
                            "    </tr>\n",
                            "    <tr>\n",
                            "      <th>2</th>\n",
                            "      <td>1-800-555-1234</td>\n",
                            "      <td>What is the phone number for customer service?</td>\n",
                            "      <td>Please call customer service at 1-800-555-1243.</td>\n",
                            "      <td>0</td>\n",
                            "      <td>0.458713</td>\n",
                            "    </tr>\n",
                            "    <tr>\n",
                            "      <th>3</th>\n",
                            "      <td>Next flight: 8:00 PM from JFK to LHR</td>\n",
                            "      <td>When is the next flight from New York to London?</td>\n",
                            "      <td>The next flight from New York to London is at 9:00 PM.</td>\n",
                            "      <td>0</td>\n",
                            "      <td>0.456505</td>\n",
                            "    </tr>\n",
                            "    <tr>\n",
                            "      <th>4</th>\n",
                            "      <td>Business class amenities on StrikeAir flights include flatbed seats, gourmet dining, premium beverages, and extra baggage allowance.</td>\n",
                            "      <td>What are the business class amenities on StrikeAir flights?</td>\n",
                            "      <td>Business class includes fully flat seats, gourmet meals, and a selection of fine wines.</td>\n",
                            "      <td>0</td>\n",
                            "      <td>0.487009</td>\n",
                            "    </tr>\n",
                            "    <tr>\n",
                            "      <th>5</th>\n",
                            "      <td>Flight status for SA1234 is available on our website or by calling customer service at 1-800-555-1234.</td>\n",
                            "      <td>How can I track my flight status?</td>\n",
                            "      <td>You can check the status of your flight SA1234 on our website or call customer service at 1-800-555-1234.</td>\n",
                            "      <td>1</td>\n",
                            "      <td>0.527722</td>\n",
                            "    </tr>\n",
                            "    <tr>\n",
                            "      <th>6</th>\n",
                            "      <td>Vegetarian meals are available upon request. Please ensure you request it at the time of booking or contact customer service.</td>\n",
                            "      <td>Can I get a vegetarian meal on my flight?</td>\n",
                            "      <td>Yes, we offer vegetarian meals on our flights. Please make sure to request it during booking or contact customer service.</td>\n",
                            "      <td>1</td>\n",
                            "      <td>0.556459</td>\n",
                            "    </tr>\n",
                            "    <tr>\n",
                            "      <th>7</th>\n",
                            "      <td>1 carry-on bag and 1 personal item are allowed</td>\n",
                            "      <td>How many carry-on bags am I allowed to bring?</td>\n",
                            "      <td>You are allowed to bring 1 carry-on bag and 1 personal item.</td>\n",
                            "      <td>1</td>\n",
                            "      <td>0.505438</td>\n",
                            "    </tr>\n",
                            "    <tr>\n",
                            "      <th>8</th>\n",
                            "      <td>A negative COVID-19 test result taken within 72 hours before boarding is required.</td>\n",
                            "      <td>Do I need to provide a negative COVID-19 test result before boarding?</td>\n",
                            "      <td>Yes, you need to provide a negative COVID-19 test result taken within 72 hours before boarding.</td>\n",
                            "      <td>1</td>\n",
                            "      <td>0.557590</td>\n",
                            "    </tr>\n",
                            "    <tr>\n",
                            "      <th>9</th>\n",
                            "      <td>JFK Terminal 4</td>\n",
                            "      <td>What terminal is my flight arriving at?</td>\n",
                            "      <td>Your flight is arriving at JFK Terminal 5.</td>\n",
                            "      <td>0</td>\n",
                            "      <td>0.402872</td>\n",
                            "    </tr>\n",
                            "  </tbody>\n",
                            "</table>\n",
                            "</div>"
                        ],
                        "text/plain": [
                            "                                                                                                                           ground_truth  \\\n",
                            "0                                                     Musical instruments are allowed on board if they fit in the cabin's overhead bin.   \n",
                            "1                                                                                                             2 checked bags, 23kg each   \n",
                            "2                                                                                                                        1-800-555-1234   \n",
                            "3                                                                                                  Next flight: 8:00 PM from JFK to LHR   \n",
                            "4  Business class amenities on StrikeAir flights include flatbed seats, gourmet dining, premium beverages, and extra baggage allowance.   \n",
                            "5                                Flight status for SA1234 is available on our website or by calling customer service at 1-800-555-1234.   \n",
                            "6         Vegetarian meals are available upon request. Please ensure you request it at the time of booking or contact customer service.   \n",
                            "7                                                                                        1 carry-on bag and 1 personal item are allowed   \n",
                            "8                                                    A negative COVID-19 test result taken within 72 hours before boarding is required.   \n",
                            "9                                                                                                                        JFK Terminal 4   \n",
                            "\n",
                            "                                                                   input  \\\n",
                            "0                             Can I carry a musical instrument on board?   \n",
                            "1          How many free checked bags am I allowed on long-haul flights?   \n",
                            "2                         What is the phone number for customer service?   \n",
                            "3                       When is the next flight from New York to London?   \n",
                            "4            What are the business class amenities on StrikeAir flights?   \n",
                            "5                                      How can I track my flight status?   \n",
                            "6                              Can I get a vegetarian meal on my flight?   \n",
                            "7                          How many carry-on bags am I allowed to bring?   \n",
                            "8  Do I need to provide a negative COVID-19 test result before boarding?   \n",
                            "9                                What terminal is my flight arriving at?   \n",
                            "\n",
                            "                                                                                                                      output  \\\n",
                            "0                                                        Small musical instruments that fit in the overhead bin are allowed.   \n",
                            "1                                                  You are allowed 1 checked bag, weighing up to 23kg, on long-haul flights.   \n",
                            "2                                                                            Please call customer service at 1-800-555-1243.   \n",
                            "3                                                                     The next flight from New York to London is at 9:00 PM.   \n",
                            "4                                    Business class includes fully flat seats, gourmet meals, and a selection of fine wines.   \n",
                            "5                  You can check the status of your flight SA1234 on our website or call customer service at 1-800-555-1234.   \n",
                            "6  Yes, we offer vegetarian meals on our flights. Please make sure to request it during booking or contact customer service.   \n",
                            "7                                                               You are allowed to bring 1 carry-on bag and 1 personal item.   \n",
                            "8                            Yes, you need to provide a negative COVID-19 test result taken within 72 hours before boarding.   \n",
                            "9                                                                                 Your flight is arriving at JFK Terminal 5.   \n",
                            "\n",
                            "   label  Dining Assistant Evaluator v1oops_score  \n",
                            "0      1                                 0.527390  \n",
                            "1      0                                 0.451582  \n",
                            "2      0                                 0.458713  \n",
                            "3      0                                 0.456505  \n",
                            "4      0                                 0.487009  \n",
                            "5      1                                 0.527722  \n",
                            "6      1                                 0.556459  \n",
                            "7      1                                 0.505438  \n",
                            "8      1                                 0.557590  \n",
                            "9      0                                 0.402872  "
                        ]
                    },
                    "execution_count": 23,
                    "metadata": {},
                    "output_type": "execute_result"
                }
            ],
            "source": [
                "import time\n",
                "from lastmile.lib.auto_eval import Metric\n",
                "\n",
                "metric = Metric(name=model_name)\n",
                "print(f\"Waiting for fine-tuned model to be available as metric...\")\n",
                "fine_tuned_metric = client.wait_for_metric_online(metric)\n",
                "print(f\"Fine-tuned model available as metric with ID: {fine_tuned_metric.id}\")\n",
                "\n",
                "# Run evaluation using our fine-tuned model\n",
                "results = client.evaluate_dataset(test_dataset_id, fine_tuned_metric)\n",
                "\n",
                "# Display results\n",
                "print(\"Evaluation Results:\")\n",
                "results"
            ]
        }
    ],
    "metadata": {
        "kernelspec": {
            "display_name": "Python 3",
            "language": "python",
            "name": "python3"
        },
        "language_info": {
            "codemirror_mode": {
                "name": "ipython",
                "version": 3
            },
            "file_extension": ".py",
            "mimetype": "text/x-python",
            "name": "python",
            "nbconvert_exporter": "python",
            "pygments_lexer": "ipython3",
            "version": "3.11.10"
        }
    },
    "nbformat": 4,
    "nbformat_minor": 2
}
