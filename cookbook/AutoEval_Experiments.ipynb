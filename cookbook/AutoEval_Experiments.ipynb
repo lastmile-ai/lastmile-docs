{
    "cells": [
        {
            "cell_type": "markdown",
            "metadata": {},
            "source": [
                "# Run Eval Experiments with LastMile AI AutoEval\n",
                "\n",
                "This notebook demonstrates how to use the LastMile AI AutoEval library to create Experiments, a way to \n",
                "organize evaluation runs as you make changes to your AI application.\n",
                "\n",
                "Experiments can be used to systematically test the effects of making changes to your AI application,\n",
                "such as updating the LLM, the retrieval strategy for a RAG system, the system prompts for an agent, and more.\n",
                "\n",
                "In this guide, we'll cover creating an Experiment, scheduling Evaluations on datasets and more. \n",
                "\n",
                "We will follow these steps:\n",
                "1. Set up the API key and a Project\n",
                "2. Prepare and upload a dataset \n",
                "3. Create an Experiment\n",
                "4. Evaluate the dataset against default metrics and log to the Experiment"
            ]
        },
        {
            "cell_type": "code",
            "execution_count": 2,
            "metadata": {},
            "outputs": [
                {
                    "name": "stdout",
                    "output_type": "stream",
                    "text": [
                        "Processing /Users/saqadri/lm/lastmile-python/dist/lastmile-0.8.0-py3-none-any.whl\n",
                        "Collecting anyio<5,>=3.5.0 (from lastmile==0.8.0)\n",
                        "  Using cached anyio-4.8.0-py3-none-any.whl.metadata (4.6 kB)\n",
                        "Collecting distro<2,>=1.7.0 (from lastmile==0.8.0)\n",
                        "  Using cached distro-1.9.0-py3-none-any.whl.metadata (6.8 kB)\n",
                        "Collecting httpx<1,>=0.23.0 (from lastmile==0.8.0)\n",
                        "  Using cached httpx-0.28.1-py3-none-any.whl.metadata (7.1 kB)\n",
                        "Collecting pandas (from lastmile==0.8.0)\n",
                        "  Using cached pandas-2.2.3-cp313-cp313-macosx_11_0_arm64.whl.metadata (89 kB)\n",
                        "Collecting pandas-stubs (from lastmile==0.8.0)\n",
                        "  Using cached pandas_stubs-2.2.3.241126-py3-none-any.whl.metadata (10.0 kB)\n",
                        "Collecting pydantic<3,>=1.9.0 (from lastmile==0.8.0)\n",
                        "  Using cached pydantic-2.10.6-py3-none-any.whl.metadata (30 kB)\n",
                        "Collecting sniffio (from lastmile==0.8.0)\n",
                        "  Using cached sniffio-1.3.1-py3-none-any.whl.metadata (3.9 kB)\n",
                        "Collecting typing-extensions<5,>=4.10 (from lastmile==0.8.0)\n",
                        "  Using cached typing_extensions-4.12.2-py3-none-any.whl.metadata (3.0 kB)\n",
                        "Collecting idna>=2.8 (from anyio<5,>=3.5.0->lastmile==0.8.0)\n",
                        "  Using cached idna-3.10-py3-none-any.whl.metadata (10 kB)\n",
                        "Collecting certifi (from httpx<1,>=0.23.0->lastmile==0.8.0)\n",
                        "  Using cached certifi-2025.1.31-py3-none-any.whl.metadata (2.5 kB)\n",
                        "Collecting httpcore==1.* (from httpx<1,>=0.23.0->lastmile==0.8.0)\n",
                        "  Using cached httpcore-1.0.7-py3-none-any.whl.metadata (21 kB)\n",
                        "Collecting h11<0.15,>=0.13 (from httpcore==1.*->httpx<1,>=0.23.0->lastmile==0.8.0)\n",
                        "  Using cached h11-0.14.0-py3-none-any.whl.metadata (8.2 kB)\n",
                        "Collecting annotated-types>=0.6.0 (from pydantic<3,>=1.9.0->lastmile==0.8.0)\n",
                        "  Using cached annotated_types-0.7.0-py3-none-any.whl.metadata (15 kB)\n",
                        "Collecting pydantic-core==2.27.2 (from pydantic<3,>=1.9.0->lastmile==0.8.0)\n",
                        "  Using cached pydantic_core-2.27.2-cp313-cp313-macosx_11_0_arm64.whl.metadata (6.6 kB)\n",
                        "Collecting numpy>=1.26.0 (from pandas->lastmile==0.8.0)\n",
                        "  Using cached numpy-2.2.2-cp313-cp313-macosx_14_0_arm64.whl.metadata (62 kB)\n",
                        "Collecting python-dateutil>=2.8.2 (from pandas->lastmile==0.8.0)\n",
                        "  Using cached python_dateutil-2.9.0.post0-py2.py3-none-any.whl.metadata (8.4 kB)\n",
                        "Collecting pytz>=2020.1 (from pandas->lastmile==0.8.0)\n",
                        "  Using cached pytz-2025.1-py2.py3-none-any.whl.metadata (22 kB)\n",
                        "Collecting tzdata>=2022.7 (from pandas->lastmile==0.8.0)\n",
                        "  Using cached tzdata-2025.1-py2.py3-none-any.whl.metadata (1.4 kB)\n",
                        "Collecting types-pytz>=2022.1.1 (from pandas-stubs->lastmile==0.8.0)\n",
                        "  Using cached types_pytz-2025.1.0.20250204-py3-none-any.whl.metadata (2.0 kB)\n",
                        "Collecting six>=1.5 (from python-dateutil>=2.8.2->pandas->lastmile==0.8.0)\n",
                        "  Using cached six-1.17.0-py2.py3-none-any.whl.metadata (1.7 kB)\n",
                        "Using cached anyio-4.8.0-py3-none-any.whl (96 kB)\n",
                        "Using cached distro-1.9.0-py3-none-any.whl (20 kB)\n",
                        "Using cached httpx-0.28.1-py3-none-any.whl (73 kB)\n",
                        "Using cached httpcore-1.0.7-py3-none-any.whl (78 kB)\n",
                        "Using cached pydantic-2.10.6-py3-none-any.whl (431 kB)\n",
                        "Using cached pydantic_core-2.27.2-cp313-cp313-macosx_11_0_arm64.whl (1.8 MB)\n",
                        "Using cached sniffio-1.3.1-py3-none-any.whl (10 kB)\n",
                        "Using cached typing_extensions-4.12.2-py3-none-any.whl (37 kB)\n",
                        "Using cached pandas-2.2.3-cp313-cp313-macosx_11_0_arm64.whl (11.3 MB)\n",
                        "Using cached pandas_stubs-2.2.3.241126-py3-none-any.whl (158 kB)\n",
                        "Using cached annotated_types-0.7.0-py3-none-any.whl (13 kB)\n",
                        "Using cached idna-3.10-py3-none-any.whl (70 kB)\n",
                        "Using cached numpy-2.2.2-cp313-cp313-macosx_14_0_arm64.whl (5.1 MB)\n",
                        "Using cached python_dateutil-2.9.0.post0-py2.py3-none-any.whl (229 kB)\n",
                        "Using cached pytz-2025.1-py2.py3-none-any.whl (507 kB)\n",
                        "Using cached types_pytz-2025.1.0.20250204-py3-none-any.whl (10 kB)\n",
                        "Using cached tzdata-2025.1-py2.py3-none-any.whl (346 kB)\n",
                        "Using cached certifi-2025.1.31-py3-none-any.whl (166 kB)\n",
                        "Using cached h11-0.14.0-py3-none-any.whl (58 kB)\n",
                        "Using cached six-1.17.0-py2.py3-none-any.whl (11 kB)\n",
                        "Installing collected packages: pytz, tzdata, typing-extensions, types-pytz, sniffio, six, numpy, idna, h11, distro, certifi, annotated-types, python-dateutil, pydantic-core, pandas-stubs, httpcore, anyio, pydantic, pandas, httpx, lastmile\n",
                        "  Attempting uninstall: pytz\n",
                        "    Found existing installation: pytz 2025.1\n",
                        "    Uninstalling pytz-2025.1:\n",
                        "      Successfully uninstalled pytz-2025.1\n",
                        "  Attempting uninstall: tzdata\n",
                        "    Found existing installation: tzdata 2025.1\n",
                        "    Uninstalling tzdata-2025.1:\n",
                        "      Successfully uninstalled tzdata-2025.1\n",
                        "  Attempting uninstall: typing-extensions\n",
                        "    Found existing installation: typing_extensions 4.12.2\n",
                        "    Uninstalling typing_extensions-4.12.2:\n",
                        "      Successfully uninstalled typing_extensions-4.12.2\n",
                        "  Attempting uninstall: types-pytz\n",
                        "    Found existing installation: types-pytz 2025.1.0.20250204\n",
                        "    Uninstalling types-pytz-2025.1.0.20250204:\n",
                        "      Successfully uninstalled types-pytz-2025.1.0.20250204\n",
                        "  Attempting uninstall: sniffio\n",
                        "    Found existing installation: sniffio 1.3.1\n",
                        "    Uninstalling sniffio-1.3.1:\n",
                        "      Successfully uninstalled sniffio-1.3.1\n",
                        "  Attempting uninstall: six\n",
                        "    Found existing installation: six 1.17.0\n",
                        "    Uninstalling six-1.17.0:\n",
                        "      Successfully uninstalled six-1.17.0\n",
                        "  Attempting uninstall: numpy\n",
                        "    Found existing installation: numpy 2.2.2\n",
                        "    Uninstalling numpy-2.2.2:\n",
                        "      Successfully uninstalled numpy-2.2.2\n",
                        "  Attempting uninstall: idna\n",
                        "    Found existing installation: idna 3.10\n",
                        "    Uninstalling idna-3.10:\n",
                        "      Successfully uninstalled idna-3.10\n",
                        "  Attempting uninstall: h11\n",
                        "    Found existing installation: h11 0.14.0\n",
                        "    Uninstalling h11-0.14.0:\n",
                        "      Successfully uninstalled h11-0.14.0\n",
                        "  Attempting uninstall: distro\n",
                        "    Found existing installation: distro 1.9.0\n",
                        "    Uninstalling distro-1.9.0:\n",
                        "      Successfully uninstalled distro-1.9.0\n",
                        "  Attempting uninstall: certifi\n",
                        "    Found existing installation: certifi 2025.1.31\n",
                        "    Uninstalling certifi-2025.1.31:\n",
                        "      Successfully uninstalled certifi-2025.1.31\n",
                        "  Attempting uninstall: annotated-types\n",
                        "    Found existing installation: annotated-types 0.7.0\n",
                        "    Uninstalling annotated-types-0.7.0:\n",
                        "      Successfully uninstalled annotated-types-0.7.0\n",
                        "  Attempting uninstall: python-dateutil\n",
                        "    Found existing installation: python-dateutil 2.9.0.post0\n",
                        "    Uninstalling python-dateutil-2.9.0.post0:\n",
                        "      Successfully uninstalled python-dateutil-2.9.0.post0\n",
                        "  Attempting uninstall: pydantic-core\n",
                        "    Found existing installation: pydantic_core 2.27.2\n",
                        "    Uninstalling pydantic_core-2.27.2:\n",
                        "      Successfully uninstalled pydantic_core-2.27.2\n",
                        "  Attempting uninstall: pandas-stubs\n",
                        "    Found existing installation: pandas-stubs 2.2.3.241126\n",
                        "    Uninstalling pandas-stubs-2.2.3.241126:\n",
                        "      Successfully uninstalled pandas-stubs-2.2.3.241126\n",
                        "  Attempting uninstall: httpcore\n",
                        "    Found existing installation: httpcore 1.0.7\n",
                        "    Uninstalling httpcore-1.0.7:\n",
                        "      Successfully uninstalled httpcore-1.0.7\n",
                        "  Attempting uninstall: anyio\n",
                        "    Found existing installation: anyio 4.8.0\n",
                        "    Uninstalling anyio-4.8.0:\n",
                        "      Successfully uninstalled anyio-4.8.0\n",
                        "  Attempting uninstall: pydantic\n",
                        "    Found existing installation: pydantic 2.10.6\n",
                        "    Uninstalling pydantic-2.10.6:\n",
                        "      Successfully uninstalled pydantic-2.10.6\n",
                        "  Attempting uninstall: pandas\n",
                        "    Found existing installation: pandas 2.2.3\n",
                        "    Uninstalling pandas-2.2.3:\n",
                        "      Successfully uninstalled pandas-2.2.3\n",
                        "  Attempting uninstall: httpx\n",
                        "    Found existing installation: httpx 0.28.1\n",
                        "    Uninstalling httpx-0.28.1:\n",
                        "      Successfully uninstalled httpx-0.28.1\n",
                        "  Attempting uninstall: lastmile\n",
                        "    Found existing installation: lastmile 0.8.0\n",
                        "    Uninstalling lastmile-0.8.0:\n",
                        "      Successfully uninstalled lastmile-0.8.0\n",
                        "Successfully installed annotated-types-0.7.0 anyio-4.8.0 certifi-2025.1.31 distro-1.9.0 h11-0.14.0 httpcore-1.0.7 httpx-0.28.1 idna-3.10 lastmile-0.8.0 numpy-2.2.2 pandas-2.2.3 pandas-stubs-2.2.3.241126 pydantic-2.10.6 pydantic-core-2.27.2 python-dateutil-2.9.0.post0 pytz-2025.1 six-1.17.0 sniffio-1.3.1 types-pytz-2025.1.0.20250204 typing-extensions-4.12.2 tzdata-2025.1\n",
                        "Note: you may need to restart the kernel to use updated packages.\n"
                    ]
                }
            ],
            "source": [
                "%pip install lastmile --upgrade"
            ]
        },
        {
            "cell_type": "markdown",
            "metadata": {},
            "source": [
                "## 1. Set Up AutoEval Client\n",
                "\n",
                "To interact with the LastMile AI API, set your API key as an environment variable. If you haven't already obtained an API key, please visit the LastMile AI dashboard."
            ]
        },
        {
            "cell_type": "code",
            "execution_count": 3,
            "metadata": {},
            "outputs": [
                {
                    "name": "stdout",
                    "output_type": "stream",
                    "text": [
                        "✓ API key successfully configured!\n"
                    ]
                }
            ],
            "source": [
                "import os\n",
                "\n",
                "api_token = os.environ.get(\"LASTMILE_API_TOKEN\")\n",
                "\n",
                "if not api_token:\n",
                "    print(\"Error: Please set your API key in the environment variable LASTMILE_API_KEY\")\n",
                "elif api_token == \"YOUR_API_KEY_HERE\":\n",
                "    print(\"Error: Please replace 'YOUR_API_KEY_HERE' with your actual API key\")\n",
                "else:\n",
                "    print(\"✓ API key successfully configured!\")\n",
                "\n",
                "# Setup Pandas to display without truncation (for display purposes)\n",
                "import pandas as pd\n",
                "pd.set_option('display.max_columns', None)\n",
                "pd.set_option('display.max_rows', None)\n",
                "pd.set_option('display.width', None)\n",
                "pd.set_option('display.max_colwidth', None)\n"
            ]
        },
        {
            "cell_type": "code",
            "execution_count": 4,
            "metadata": {},
            "outputs": [],
            "source": [
                "from lastmile.lib.auto_eval import AutoEval\n",
                "\n",
                "client = AutoEval(api_token=api_token) # You can also set the project_id= for the project you want to scope to (see below)"
            ]
        },
        {
            "cell_type": "markdown",
            "metadata": {},
            "source": [
                "## 2. Create a Project\n",
                "\n",
                "A Project is the container to organize your Experiments, Evaluation runs and Datasets. A Project usually corresponds to the initiative or AI application you're building.\n",
                "\n",
                "It is straightforward to create projects, so you can create as many as you need to easily delineate your evals, especially if you're juggling multiple projects."
            ]
        },
        {
            "cell_type": "code",
            "execution_count": 12,
            "metadata": {},
            "outputs": [],
            "source": [
                "project = client.create_project(\n",
                "    name=\"AutoEval Experiments\",\n",
                "    description=\"Project to test AutoEval Experiments\"\n",
                ")\n",
                "\n",
                "# Important - set the project_id in the client so all requests are scoped to this project\n",
                "client.project_id = project.id"
            ]
        },
        {
            "cell_type": "code",
            "execution_count": 5,
            "metadata": {},
            "outputs": [
                {
                    "data": {
                        "text/plain": [
                            "[Project(id='j13hf8g5kqfwbrh4332w89nd', created_at=datetime.datetime(2025, 2, 10, 21, 50, 55, 656000, tzinfo=datetime.timezone.utc), name='AutoEval Experiments', updated_at=datetime.datetime(2025, 2, 10, 21, 50, 55, 656000, tzinfo=datetime.timezone.utc), creator_id='cldfcu2780008qsueqgiqvenw', deleted_at=None, description='Project to test AutoEval Experiments', organization_id=None, organization_name=None, createdAt='2025-02-10T21:50:55.656Z', updatedAt='2025-02-10T21:50:55.656Z', creatorId='cldfcu2780008qsueqgiqvenw'),\n",
                            " Project(id='z8kfriq6cga6j0fx38znw4y6', created_at=datetime.datetime(2024, 12, 23, 16, 54, 45, 89000, tzinfo=datetime.timezone.utc), name='Default', updated_at=datetime.datetime(2024, 12, 23, 16, 54, 45, 89000, tzinfo=datetime.timezone.utc), creator_id='cldfcu2780008qsueqgiqvenw', deleted_at=None, description=None, organization_id=None, organization_name=None, createdAt='2024-12-23T16:54:45.089Z', updatedAt='2024-12-23T16:54:45.089Z', creatorId='cldfcu2780008qsueqgiqvenw')]"
                        ]
                    },
                    "execution_count": 5,
                    "metadata": {},
                    "output_type": "execute_result"
                }
            ],
            "source": [
                "# Let's list the projects in our account. It should include the newly created Project, as well as the default \"AutoEval\" project\n",
                "projects = client.list_projects()\n",
                "projects"
            ]
        },
        {
            "cell_type": "code",
            "execution_count": 6,
            "metadata": {},
            "outputs": [
                {
                    "data": {
                        "text/plain": [
                            "Project(id='z8kfriq6cga6j0fx38znw4y6', created_at=datetime.datetime(2024, 12, 23, 16, 54, 45, 89000, tzinfo=datetime.timezone.utc), name='Default', updated_at=datetime.datetime(2024, 12, 23, 16, 54, 45, 89000, tzinfo=datetime.timezone.utc), creator_id='cldfcu2780008qsueqgiqvenw', deleted_at=None, description=None, organization_id=None, organization_name=None, createdAt='2024-12-23T16:54:45.089Z', updatedAt='2024-12-23T16:54:45.089Z', creatorId='cldfcu2780008qsueqgiqvenw')"
                        ]
                    },
                    "execution_count": 6,
                    "metadata": {},
                    "output_type": "execute_result"
                }
            ],
            "source": [
                "# You can also get the project \n",
                "default_project = client.get_project(project_id=\"z8kfriq6cga6j0fx38znw4y6\")\n",
                "default_project"
            ]
        },
        {
            "cell_type": "markdown",
            "metadata": {},
            "source": [
                "## 3. Prepare and Upload Your Dataset\n",
                "\n",
                "Now that we have our API key configured, let's prepare and upload a dataset for evaluation. LastMile AI AutoEval expects a CSV file with the following columns:\n",
                "\n",
                "- `input`: The user's query or input text\n",
                "- `output`: The assistant's response to the user's query\n",
                "- `ground_truth`: The correct or expected response for comparison (optional)\n",
                "\n",
                "For this example, we'll use a sample dataset `customer-support-dataset.csv` containing airline customer support interactions. The dataset includes various scenarios like:\n",
                "\n",
                "- Flight status inquiries\n",
                "- Baggage policy questions  \n",
                "- Check-in procedures\n",
                "- Meal options and special requests\n",
                "\n",
                "Each interaction includes the customer's query, the assistant's response, and the ground truth containing accurate airline policies and procedures. We'll upload this dataset and then evaluate how well the assistant's responses align with the ground truth using LastMile's evaluation metrics."
            ]
        },
        {
            "cell_type": "code",
            "execution_count": 24,
            "metadata": {},
            "outputs": [
                {
                    "name": "stdout",
                    "output_type": "stream",
                    "text": [
                        "Dataset created with ID: xf0jx4dlltr92628aio94g18\n"
                    ]
                }
            ],
            "source": [
                "dataset_csv_path = \"data/customer_support_dataset.csv\"\n",
                "\n",
                "dataset_id = client.upload_dataset(\n",
                "    file_path=dataset_csv_path,\n",
                "    name=\"Customer Support Dataset\",\n",
                "    description=\"Dataset containing customer support queries and responses\"\n",
                ")\n",
                "\n",
                "print(f\"Dataset created with ID: {dataset_id}\")"
            ]
        },
        {
            "cell_type": "code",
            "execution_count": null,
            "metadata": {},
            "outputs": [
                {
                    "data": {
                        "text/plain": [
                            "'zbhg5hnlnfw2kqilx263jarb'"
                        ]
                    },
                    "execution_count": 26,
                    "metadata": {},
                    "output_type": "execute_result"
                }
            ],
            "source": [
                "# You can also copy/clone a dataset\n",
                "copied_dataset_id = client.copy_dataset(dataset_id=dataset_id)\n",
                "copied_dataset_id"
            ]
        },
        {
            "cell_type": "code",
            "execution_count": 27,
            "metadata": {},
            "outputs": [
                {
                    "data": {
                        "text/plain": [
                            "True"
                        ]
                    },
                    "execution_count": 27,
                    "metadata": {},
                    "output_type": "execute_result"
                }
            ],
            "source": [
                "# Deleting the copied dataset (which archives it)\n",
                "deleted = client.delete_dataset(dataset_id=copied_dataset_id)\n",
                "deleted"
            ]
        },
        {
            "cell_type": "markdown",
            "metadata": {},
            "source": [
                "## 4. Create an Experiment\n",
                "\n",
                "Let's create an experiment to house the evaluations under"
            ]
        },
        {
            "cell_type": "code",
            "execution_count": 13,
            "metadata": {},
            "outputs": [],
            "source": [
                "experiment = client.create_experiment(\n",
                "    name=\"Customer Support Experiment A\",\n",
                "    description=\"Experiment to test customer support queries\",\n",
                "    # You can specify any useful properties in the metadata, which will surface as columns in any evals logged to this experiment\n",
                "    metadata={\n",
                "        \"model\": \"gpt-4o\", \n",
                "        \"temperature\": 0.8, \n",
                "        \"misc\": {\n",
                "            \"dataset_version\": \"0.1.1\", \n",
                "            \"app\": \"customer-support\"\n",
                "        }\n",
                "    }\n",
                ")"
            ]
        },
        {
            "cell_type": "code",
            "execution_count": 14,
            "metadata": {},
            "outputs": [
                {
                    "data": {
                        "text/plain": [
                            "Experiment(id='lifjh83z02qqrnpoxsdu1108', created_at=datetime.datetime(2025, 2, 10, 23, 43, 33, 784000, tzinfo=datetime.timezone.utc), name='Customer Support Experiment A', project_id='j13hf8g5kqfwbrh4332w89nd', updated_at=datetime.datetime(2025, 2, 10, 23, 43, 33, 784000, tzinfo=datetime.timezone.utc), creator_id='cldfcu2780008qsueqgiqvenw', description='Experiment to test customer support queries', metadata=ExperimentMetadata(fields=None, misc={'app': 'customer-support', 'dataset_version': '0.1.1'}, model='gpt-4o', temperature=0.8), createdAt='2025-02-10T23:43:33.784Z', updatedAt='2025-02-10T23:43:33.784Z', creatorId='cldfcu2780008qsueqgiqvenw', projectId='j13hf8g5kqfwbrh4332w89nd')"
                        ]
                    },
                    "execution_count": 14,
                    "metadata": {},
                    "output_type": "execute_result"
                }
            ],
            "source": [
                "experiment"
            ]
        },
        {
            "cell_type": "code",
            "execution_count": 16,
            "metadata": {},
            "outputs": [],
            "source": [
                "# You can get an expeiment by ID\n",
                "experiment = client.get_experiment(experiment_id=experiment.id)"
            ]
        },
        {
            "cell_type": "markdown",
            "metadata": {},
            "source": [
                "## 5. Evaluate the Dataset Against Built-in Metrics\n",
                "\n",
                "Now that we have uploaded our dataset, we can evaluate it against the built-in metrics provided by LastMile AI AutoEval. These metrics include:\n",
                "\n",
                "- `BuiltinMetrics.FAITHFULNESS`: Assesses how well the assistant's responses align with the provided ground truth.\n",
                "- `BuiltinMetrics.RELEVANCE`: Evaluates the relevance and appropriateness of the assistant's responses to the user's queries.\n",
                "- LastMile provides a few other metrics out of the box such as Toxicity, Question-Answering, etc.\n",
                "\n",
                "We'll run evaluations on a subset of our dataset and the selected built-in metrics.\n",
                "\n",
                "Note: You can also run evaluations directly on a dataset by using the `evaluate_dataset()` method."
            ]
        },
        {
            "cell_type": "code",
            "execution_count": 15,
            "metadata": {},
            "outputs": [
                {
                    "name": "stdout",
                    "output_type": "stream",
                    "text": [
                        "Evaluation job kicked off\n",
                        "Evaluation Results:\n"
                    ]
                },
                {
                    "data": {
                        "text/html": [
                            "<div>\n",
                            "<style scoped>\n",
                            "    .dataframe tbody tr th:only-of-type {\n",
                            "        vertical-align: middle;\n",
                            "    }\n",
                            "\n",
                            "    .dataframe tbody tr th {\n",
                            "        vertical-align: top;\n",
                            "    }\n",
                            "\n",
                            "    .dataframe thead th {\n",
                            "        text-align: right;\n",
                            "    }\n",
                            "</style>\n",
                            "<table border=\"1\" class=\"dataframe\">\n",
                            "  <thead>\n",
                            "    <tr style=\"text-align: right;\">\n",
                            "      <th></th>\n",
                            "      <th>input_log_id</th>\n",
                            "      <th>input</th>\n",
                            "      <th>output</th>\n",
                            "      <th>ground_truth</th>\n",
                            "      <th>tags</th>\n",
                            "      <th>extras</th>\n",
                            "      <th>misc</th>\n",
                            "      <th>model</th>\n",
                            "      <th>temperature</th>\n",
                            "      <th>Faithfulness</th>\n",
                            "      <th>Relevance</th>\n",
                            "    </tr>\n",
                            "  </thead>\n",
                            "  <tbody>\n",
                            "    <tr>\n",
                            "      <th>0</th>\n",
                            "      <td>arg-18212c2670d356c0-03.958-01.1-0</td>\n",
                            "      <td>Can I change my flight date for free?</td>\n",
                            "      <td>You can change your flight date for free if it is within 24 hours of booking. Otherwise, a fee may apply.</td>\n",
                            "      <td>You can change your flight date for free within 24 hours of making the booking. After that, a change fee will apply.</td>\n",
                            "      <td>NaN</td>\n",
                            "      <td>Base metric tests</td>\n",
                            "      <td>{\"app\":\"customer-support\",\"dataset_version\":\"0.1.1\"}</td>\n",
                            "      <td>gpt-4o</td>\n",
                            "      <td>0.8</td>\n",
                            "      <td>0.999580</td>\n",
                            "      <td>1.000000</td>\n",
                            "    </tr>\n",
                            "    <tr>\n",
                            "      <th>1</th>\n",
                            "      <td>arg-18212c2670d356c0-03.959-01.1-1</td>\n",
                            "      <td>What is the phone number for customer service?</td>\n",
                            "      <td>Please call customer service at 1-800-555-1243.</td>\n",
                            "      <td>1-800-555-1234</td>\n",
                            "      <td>NaN</td>\n",
                            "      <td>Base metric tests</td>\n",
                            "      <td>{\"app\":\"customer-support\",\"dataset_version\":\"0.1.1\"}</td>\n",
                            "      <td>gpt-4o</td>\n",
                            "      <td>0.8</td>\n",
                            "      <td>0.895925</td>\n",
                            "      <td>0.863263</td>\n",
                            "    </tr>\n",
                            "    <tr>\n",
                            "      <th>2</th>\n",
                            "      <td>arg-18212c2670d356c0-03.95a-01.1-2</td>\n",
                            "      <td>What time is my flight SA795 departing from JFK?</td>\n",
                            "      <td>Your flight SA795 is departing from JFK at 6:30PM.</td>\n",
                            "      <td>SA795: JFK Terminal 4, Gate 42, 6:30PM departure</td>\n",
                            "      <td>NaN</td>\n",
                            "      <td>Base metric tests</td>\n",
                            "      <td>{\"app\":\"customer-support\",\"dataset_version\":\"0.1.1\"}</td>\n",
                            "      <td>gpt-4o</td>\n",
                            "      <td>0.8</td>\n",
                            "      <td>0.998571</td>\n",
                            "      <td>0.984251</td>\n",
                            "    </tr>\n",
                            "    <tr>\n",
                            "      <th>3</th>\n",
                            "      <td>arg-18212c2670d356c0-03.95b-01.1-3</td>\n",
                            "      <td>What are the business class amenities on StrikeAir flights?</td>\n",
                            "      <td>Business class includes fully flat seats, gourmet meals, and a selection of fine wines.</td>\n",
                            "      <td>Business class amenities on StrikeAir flights include flatbed seats, gourmet dining, premium beverages, and extra baggage allowance.</td>\n",
                            "      <td>NaN</td>\n",
                            "      <td>Base metric tests</td>\n",
                            "      <td>{\"app\":\"customer-support\",\"dataset_version\":\"0.1.1\"}</td>\n",
                            "      <td>gpt-4o</td>\n",
                            "      <td>0.8</td>\n",
                            "      <td>0.999438</td>\n",
                            "      <td>0.785916</td>\n",
                            "    </tr>\n",
                            "    <tr>\n",
                            "      <th>4</th>\n",
                            "      <td>arg-18212c2670d356c0-03.95c-01.1-4</td>\n",
                            "      <td>What gate is my flight departing from?</td>\n",
                            "      <td>Your flight SA795 is departing from JFK Terminal 5, Gate 42 at 6:30PM.</td>\n",
                            "      <td>SA795: JFK Terminal 4, Gate 42, 6:30PM departure</td>\n",
                            "      <td>NaN</td>\n",
                            "      <td>Base metric tests</td>\n",
                            "      <td>{\"app\":\"customer-support\",\"dataset_version\":\"0.1.1\"}</td>\n",
                            "      <td>gpt-4o</td>\n",
                            "      <td>0.8</td>\n",
                            "      <td>0.000678</td>\n",
                            "      <td>0.990655</td>\n",
                            "    </tr>\n",
                            "    <tr>\n",
                            "      <th>5</th>\n",
                            "      <td>arg-18212c2670d356c0-03.95d-01.1-5</td>\n",
                            "      <td>Can you tell me how to check in for my flight online?</td>\n",
                            "      <td>You can check in for your flight online by visiting our website and clicking on the 'Check-In' tab. Enter your booking reference and last name, and follow the instructions.</td>\n",
                            "      <td>Visit our website and click on the 'Check-In' tab. Enter your booking reference and last name to check in.</td>\n",
                            "      <td>NaN</td>\n",
                            "      <td>Base metric tests</td>\n",
                            "      <td>{\"app\":\"customer-support\",\"dataset_version\":\"0.1.1\"}</td>\n",
                            "      <td>gpt-4o</td>\n",
                            "      <td>0.8</td>\n",
                            "      <td>0.998471</td>\n",
                            "      <td>0.996501</td>\n",
                            "    </tr>\n",
                            "    <tr>\n",
                            "      <th>6</th>\n",
                            "      <td>arg-18212c2670d356c0-03.95e-01.1-6</td>\n",
                            "      <td>Can you tell me the flight status for SA450?</td>\n",
                            "      <td>Flight SA450 is on schedule and will depart from JFK Terminal 2, Gate 15 at 4:00PM.</td>\n",
                            "      <td>SA450: On Schedule, JFK Terminal 2, Gate 15, 4:00PM departure</td>\n",
                            "      <td>NaN</td>\n",
                            "      <td>Base metric tests</td>\n",
                            "      <td>{\"app\":\"customer-support\",\"dataset_version\":\"0.1.1\"}</td>\n",
                            "      <td>gpt-4o</td>\n",
                            "      <td>0.8</td>\n",
                            "      <td>0.999635</td>\n",
                            "      <td>0.995998</td>\n",
                            "    </tr>\n",
                            "    <tr>\n",
                            "      <th>7</th>\n",
                            "      <td>arg-18212c2670d356c0-03.95f-01.1-7</td>\n",
                            "      <td>Can I get a vegetarian meal on my flight?</td>\n",
                            "      <td>Yes, we offer vegetarian meals on our flights. Please make sure to request it during booking or contact customer service.</td>\n",
                            "      <td>Vegetarian meals are available upon request. Please ensure you request it at the time of booking or contact customer service.</td>\n",
                            "      <td>NaN</td>\n",
                            "      <td>Base metric tests</td>\n",
                            "      <td>{\"app\":\"customer-support\",\"dataset_version\":\"0.1.1\"}</td>\n",
                            "      <td>gpt-4o</td>\n",
                            "      <td>0.8</td>\n",
                            "      <td>0.999843</td>\n",
                            "      <td>0.999335</td>\n",
                            "    </tr>\n",
                            "    <tr>\n",
                            "      <th>8</th>\n",
                            "      <td>arg-18212c2670d356c0-03.960-01.1-8</td>\n",
                            "      <td>Can I bring my pet on the plane?</td>\n",
                            "      <td>Yes, you can bring your pet, but it must fit under the seat in front of you and there is a pet fee.</td>\n",
                            "      <td>Pets are not allowed on StrikeAir flights.</td>\n",
                            "      <td>NaN</td>\n",
                            "      <td>Base metric tests</td>\n",
                            "      <td>{\"app\":\"customer-support\",\"dataset_version\":\"0.1.1\"}</td>\n",
                            "      <td>gpt-4o</td>\n",
                            "      <td>0.8</td>\n",
                            "      <td>0.000892</td>\n",
                            "      <td>0.875631</td>\n",
                            "    </tr>\n",
                            "    <tr>\n",
                            "      <th>9</th>\n",
                            "      <td>arg-18212c2670d356c0-03.961-01.1-9</td>\n",
                            "      <td>Do you have any vegetarian meals on your flights?</td>\n",
                            "      <td>Yes, we do offer vegetarian meal options on our flights. You can request it during booking or contact customer service for assistance.</td>\n",
                            "      <td>Vegetarian meal options are available on all flights, requestable during booking or via customer service.</td>\n",
                            "      <td>NaN</td>\n",
                            "      <td>Base metric tests</td>\n",
                            "      <td>{\"app\":\"customer-support\",\"dataset_version\":\"0.1.1\"}</td>\n",
                            "      <td>gpt-4o</td>\n",
                            "      <td>0.8</td>\n",
                            "      <td>0.999865</td>\n",
                            "      <td>0.998895</td>\n",
                            "    </tr>\n",
                            "  </tbody>\n",
                            "</table>\n",
                            "</div>"
                        ],
                        "text/plain": [
                            "                         input_log_id  \\\n",
                            "0  arg-18212c2670d356c0-03.958-01.1-0   \n",
                            "1  arg-18212c2670d356c0-03.959-01.1-1   \n",
                            "2  arg-18212c2670d356c0-03.95a-01.1-2   \n",
                            "3  arg-18212c2670d356c0-03.95b-01.1-3   \n",
                            "4  arg-18212c2670d356c0-03.95c-01.1-4   \n",
                            "5  arg-18212c2670d356c0-03.95d-01.1-5   \n",
                            "6  arg-18212c2670d356c0-03.95e-01.1-6   \n",
                            "7  arg-18212c2670d356c0-03.95f-01.1-7   \n",
                            "8  arg-18212c2670d356c0-03.960-01.1-8   \n",
                            "9  arg-18212c2670d356c0-03.961-01.1-9   \n",
                            "\n",
                            "                                                         input  \\\n",
                            "0                        Can I change my flight date for free?   \n",
                            "1               What is the phone number for customer service?   \n",
                            "2             What time is my flight SA795 departing from JFK?   \n",
                            "3  What are the business class amenities on StrikeAir flights?   \n",
                            "4                       What gate is my flight departing from?   \n",
                            "5        Can you tell me how to check in for my flight online?   \n",
                            "6                 Can you tell me the flight status for SA450?   \n",
                            "7                    Can I get a vegetarian meal on my flight?   \n",
                            "8                             Can I bring my pet on the plane?   \n",
                            "9            Do you have any vegetarian meals on your flights?   \n",
                            "\n",
                            "                                                                                                                                                                         output  \\\n",
                            "0                                                                     You can change your flight date for free if it is within 24 hours of booking. Otherwise, a fee may apply.   \n",
                            "1                                                                                                                               Please call customer service at 1-800-555-1243.   \n",
                            "2                                                                                                                            Your flight SA795 is departing from JFK at 6:30PM.   \n",
                            "3                                                                                       Business class includes fully flat seats, gourmet meals, and a selection of fine wines.   \n",
                            "4                                                                                                        Your flight SA795 is departing from JFK Terminal 5, Gate 42 at 6:30PM.   \n",
                            "5  You can check in for your flight online by visiting our website and clicking on the 'Check-In' tab. Enter your booking reference and last name, and follow the instructions.   \n",
                            "6                                                                                           Flight SA450 is on schedule and will depart from JFK Terminal 2, Gate 15 at 4:00PM.   \n",
                            "7                                                     Yes, we offer vegetarian meals on our flights. Please make sure to request it during booking or contact customer service.   \n",
                            "8                                                                           Yes, you can bring your pet, but it must fit under the seat in front of you and there is a pet fee.   \n",
                            "9                                        Yes, we do offer vegetarian meal options on our flights. You can request it during booking or contact customer service for assistance.   \n",
                            "\n",
                            "                                                                                                                           ground_truth  \\\n",
                            "0                  You can change your flight date for free within 24 hours of making the booking. After that, a change fee will apply.   \n",
                            "1                                                                                                                        1-800-555-1234   \n",
                            "2                                                                                      SA795: JFK Terminal 4, Gate 42, 6:30PM departure   \n",
                            "3  Business class amenities on StrikeAir flights include flatbed seats, gourmet dining, premium beverages, and extra baggage allowance.   \n",
                            "4                                                                                      SA795: JFK Terminal 4, Gate 42, 6:30PM departure   \n",
                            "5                            Visit our website and click on the 'Check-In' tab. Enter your booking reference and last name to check in.   \n",
                            "6                                                                         SA450: On Schedule, JFK Terminal 2, Gate 15, 4:00PM departure   \n",
                            "7         Vegetarian meals are available upon request. Please ensure you request it at the time of booking or contact customer service.   \n",
                            "8                                                                                            Pets are not allowed on StrikeAir flights.   \n",
                            "9                             Vegetarian meal options are available on all flights, requestable during booking or via customer service.   \n",
                            "\n",
                            "   tags             extras  \\\n",
                            "0   NaN  Base metric tests   \n",
                            "1   NaN  Base metric tests   \n",
                            "2   NaN  Base metric tests   \n",
                            "3   NaN  Base metric tests   \n",
                            "4   NaN  Base metric tests   \n",
                            "5   NaN  Base metric tests   \n",
                            "6   NaN  Base metric tests   \n",
                            "7   NaN  Base metric tests   \n",
                            "8   NaN  Base metric tests   \n",
                            "9   NaN  Base metric tests   \n",
                            "\n",
                            "                                                   misc   model  temperature  \\\n",
                            "0  {\"app\":\"customer-support\",\"dataset_version\":\"0.1.1\"}  gpt-4o          0.8   \n",
                            "1  {\"app\":\"customer-support\",\"dataset_version\":\"0.1.1\"}  gpt-4o          0.8   \n",
                            "2  {\"app\":\"customer-support\",\"dataset_version\":\"0.1.1\"}  gpt-4o          0.8   \n",
                            "3  {\"app\":\"customer-support\",\"dataset_version\":\"0.1.1\"}  gpt-4o          0.8   \n",
                            "4  {\"app\":\"customer-support\",\"dataset_version\":\"0.1.1\"}  gpt-4o          0.8   \n",
                            "5  {\"app\":\"customer-support\",\"dataset_version\":\"0.1.1\"}  gpt-4o          0.8   \n",
                            "6  {\"app\":\"customer-support\",\"dataset_version\":\"0.1.1\"}  gpt-4o          0.8   \n",
                            "7  {\"app\":\"customer-support\",\"dataset_version\":\"0.1.1\"}  gpt-4o          0.8   \n",
                            "8  {\"app\":\"customer-support\",\"dataset_version\":\"0.1.1\"}  gpt-4o          0.8   \n",
                            "9  {\"app\":\"customer-support\",\"dataset_version\":\"0.1.1\"}  gpt-4o          0.8   \n",
                            "\n",
                            "   Faithfulness  Relevance  \n",
                            "0      0.999580   1.000000  \n",
                            "1      0.895925   0.863263  \n",
                            "2      0.998571   0.984251  \n",
                            "3      0.999438   0.785916  \n",
                            "4      0.000678   0.990655  \n",
                            "5      0.998471   0.996501  \n",
                            "6      0.999635   0.995998  \n",
                            "7      0.999843   0.999335  \n",
                            "8      0.000892   0.875631  \n",
                            "9      0.999865   0.998895  "
                        ]
                    },
                    "execution_count": 15,
                    "metadata": {},
                    "output_type": "execute_result"
                }
            ],
            "source": [
                "from lastmile.lib.auto_eval import BuiltinMetrics\n",
                "default_metrics = [\n",
                "    BuiltinMetrics.FAITHFULNESS,\n",
                "    BuiltinMetrics.RELEVANCE,\n",
                "    # LastMile provides a few other metrics out of the box such as Toxicity, Question-Answering, etc.\n",
                "]\n",
                "\n",
                "print(f\"Evaluation job kicked off\")\n",
                "evaluation_results = client.evaluate_dataset(\n",
                "    dataset_id=dataset_id,\n",
                "    metrics=default_metrics,\n",
                "    # Log this evaluation run to the experiment we created above\n",
                "    experiment_id=experiment.id,\n",
                "\n",
                "    # You can add additional metadata properties here, which will get merged with any metadata on the Experiment itself\n",
                "    # The metadata properties are surfaced as columns in the resulting dataset\n",
                "    metadata={\n",
                "        \"extras\": \"Base metric tests\"\n",
                "    }\n",
                ")\n",
                "\n",
                "print(\"Evaluation Results:\")\n",
                "evaluation_results.head(10)"
            ]
        },
        {
            "cell_type": "markdown",
            "metadata": {},
            "source": [
                "## 6. Visualize this in the Experiments Console\n",
                "\n",
                "You can log as many evaluation runs under an experiment as you want, and compare them.\n",
                "The AutoEval UI has visualizations for this purpose:\n",
                "\n",
                "* Experiments: https://lastmileai.dev/evaluations?view=experiments\n",
                "* Evaluation Runs: https://lastmileai.dev/evaluations?view=all_runs\n",
                "* Project Dashboard: https://lastmileai.dev/dashboard\n",
                "* Dataset Library: https://lastmileai.dev/datasets\n",
                "\n",
                "Check it out for yourself!"
            ]
        },
        {
            "cell_type": "markdown",
            "metadata": {},
            "source": [
                "![Experiment Comparison](https://github.com/user-attachments/assets/8ccb3a2b-f1c5-4d69-9490-a00f385a7acc)"
            ]
        },
        {
            "cell_type": "markdown",
            "metadata": {},
            "source": [
                "![Evaluation Run](https://github.com/user-attachments/assets/26d8f62d-0dcb-4c5f-b23e-2b3fa6e289b2)"
            ]
        },
        {
            "cell_type": "markdown",
            "metadata": {},
            "source": [
                "![Project Dashboard](https://github.com/user-attachments/assets/7156d91f-9286-4996-989d-b0b76c623454)"
            ]
        },
        {
            "cell_type": "markdown",
            "metadata": {},
            "source": [
                "## Next Steps\n",
                "\n",
                "Head over to the AutoEval Getting Started notebook to learn about labeling, fine-tuning evaluator models, and other workflows that you can use to optimize your evals!"
            ]
        }
    ],
    "metadata": {
        "kernelspec": {
            "display_name": ".venv",
            "language": "python",
            "name": "python3"
        },
        "language_info": {
            "codemirror_mode": {
                "name": "ipython",
                "version": 3
            },
            "file_extension": ".py",
            "mimetype": "text/x-python",
            "name": "python",
            "nbconvert_exporter": "python",
            "pygments_lexer": "ipython3",
            "version": "3.13.1"
        }
    },
    "nbformat": 4,
    "nbformat_minor": 2
}
